{
 "cells": [
  {
   "cell_type": "markdown",
   "metadata": {},
   "source": [
    "Преподаватель: Вячеслав Мурашкин\n",
    "Распознавание рукописного ввода на примере базы MNIST\n",
    "\n",
    "Построить классификатор изображений рукописного ввода на базе MNIST. В качестве шаблона в данной работе можно использовать ipython-ноутбук 002-digit.ipynb.\n",
    "\n",
    "Классификатор предлагается строить на признаках, полученных в результате предобработки изображений, например, гистограммы градиентов (HOG) или результат PCA преобразования.\n",
    "\n",
    "В качестве модели классификатора можно использовать любую известную Вам модель, за исключением сверточных нейронных сетей.\n",
    "\n",
    "Критерием качества классификатора является метрика accuracy. Для получения зачета по данной работе, значение метрики accuracy должно быть больше 0.6. Метрика оценивается на тестовой выборке в рамках контеста Digit Recognizer на Kaggle.\n",
    "\n",
    "Решение необходимо предоставить в виде ipython-ноутбука с реализацией процесса построения модели и скриншота с финальным результатом на Kaggle."
   ]
  },
  {
   "cell_type": "code",
   "execution_count": 108,
   "metadata": {},
   "outputs": [],
   "source": [
    "%matplotlib inline\n",
    "import cv2\n",
    "import numpy as np\n",
    "import pandas as pd\n",
    "import matplotlib.pyplot as plt\n",
    "from sklearn.ensemble import RandomForestClassifier\n",
    "from sklearn.neighbors import KNeighborsClassifier\n",
    "from sklearn.tree import DecisionTreeClassifier\n",
    "from sklearn.svm import SVC\n",
    "from sklearn.linear_model import LogisticRegression\n",
    "from sklearn.model_selection import train_test_split\n",
    "from sklearn.model_selection import cross_val_score\n",
    "from sklearn.model_selection import cross_val_predict\n",
    "from sklearn.model_selection import StratifiedKFold\n",
    "from sklearn.model_selection import RandomizedSearchCV\n",
    "from sklearn.model_selection import GridSearchCV\n",
    "\n",
    "from sklearn.metrics import mean_absolute_error\n",
    "from sklearn.metrics import accuracy_score\n",
    "from sklearn.metrics import confusion_matrix\n",
    "from sklearn.metrics import classification_report"
   ]
  },
  {
   "cell_type": "markdown",
   "metadata": {},
   "source": [
    "## Загружаем исходные данные"
   ]
  },
  {
   "cell_type": "code",
   "execution_count": 109,
   "metadata": {},
   "outputs": [],
   "source": [
    "train = np.loadtxt('./digit/train.csv', delimiter=',', skiprows=1)\n",
    "test = np.loadtxt('./digit/test.csv', delimiter=',', skiprows=1)"
   ]
  },
  {
   "cell_type": "code",
   "execution_count": 110,
   "metadata": {},
   "outputs": [
    {
     "name": "stdout",
     "output_type": "stream",
     "text": [
      "(42000, 785)\n"
     ]
    }
   ],
   "source": [
    "# сохраняем разметку в отдельную переменную\n",
    "train_label = train[:, 0]\n",
    "print(train.shape)"
   ]
  },
  {
   "cell_type": "code",
   "execution_count": 111,
   "metadata": {},
   "outputs": [],
   "source": [
    "# приводим размерность к удобному для обаботки виду\n",
    "train_img = np.resize(train[:, 1:], (train.shape[0], 28, 28))\n",
    "test_img = np.resize(test, (test.shape[0], 28, 28))"
   ]
  },
  {
   "cell_type": "code",
   "execution_count": 112,
   "metadata": {},
   "outputs": [
    {
     "data": {
      "text/plain": [
       "(42000, 28, 28)"
      ]
     },
     "execution_count": 112,
     "metadata": {},
     "output_type": "execute_result"
    }
   ],
   "source": [
    "train_img.shape"
   ]
  },
  {
   "cell_type": "markdown",
   "metadata": {},
   "source": [
    "## Визуализируем исходные данные"
   ]
  },
  {
   "cell_type": "code",
   "execution_count": 113,
   "metadata": {},
   "outputs": [
    {
     "data": {
      "image/png": "[encoded data removed]",
      "text/plain": [
       "<Figure size 1440x720 with 5 Axes>"
      ]
     },
     "metadata": {
      "needs_background": "light"
     },
     "output_type": "display_data"
    }
   ],
   "source": [
    "fig = plt.figure(figsize=(20, 10))\n",
    "for i, img in enumerate(train_img[0:5], 1):\n",
    "    subplot = fig.add_subplot(1, 7, i)\n",
    "    plt.imshow(img, cmap='gray');\n",
    "    subplot.set_title('%s' % train_label[i - 1]);"
   ]
  },
  {
   "cell_type": "markdown",
   "metadata": {},
   "source": [
    "# Получаем дескрипторы HOG"
   ]
  },
  {
   "cell_type": "code",
   "execution_count": 114,
   "metadata": {},
   "outputs": [],
   "source": [
    "# Процедура получения HOG дескриптора.\n",
    "def get_hog(img):\n",
    "    \n",
    "    derivAperture = 1\n",
    "    winSigma = 4.\n",
    "    histogramNormType = 0\n",
    "    L2HysThreshold = 2.0000000000000001e-01\n",
    "    gammaCorrection = 0\n",
    "    nlevels = 64\n",
    "    cell_size = (14, 14)  # h x w in pixels\n",
    "    block_size = (2, 2)  # h x w in cells\n",
    "    _nbins = 33  # number of orientation bins\n",
    "\n",
    "    _winSize=(img.shape[1] // cell_size[1] * cell_size[1],\n",
    "                                  img.shape[0] // cell_size[0] * cell_size[0])\n",
    "\n",
    "    _blockSize=(block_size[1] * cell_size[1], block_size[0] * cell_size[0])\n",
    "    _blockStride=(cell_size[1], cell_size[0])\n",
    "    _cellSize=(cell_size[1], cell_size[0])\n",
    "    # winSize is the size of the image cropped to an multiple of the cell size\n",
    "    hog = cv2.HOGDescriptor(_winSize, _blockSize, _blockStride, _cellSize, _nbins,\\\n",
    "        derivAperture, winSigma, histogramNormType, L2HysThreshold,gammaCorrection,nlevels)\n",
    "\n",
    "    n_cells = (img.shape[0] // cell_size[0], img.shape[1] // cell_size[1])\n",
    "    hog_feats = hog.compute(img)\\\n",
    "               .reshape(n_cells[1] - block_size[1] + 1,\n",
    "                        n_cells[0] - block_size[0] + 1,\n",
    "                        block_size[0], block_size[1], _nbins) \\\n",
    "               .transpose((1, 0, 2, 3, 4))  # index blocks by rows first\n",
    "    return hog_feats\n",
    "\n"
   ]
  },
  {
   "cell_type": "code",
   "execution_count": 115,
   "metadata": {},
   "outputs": [
    {
     "name": "stdout",
     "output_type": "stream",
     "text": [
      "CPU times: user 3.15 s, sys: 16 ms, total: 3.17 s\n",
      "Wall time: 3.17 s\n"
     ]
    }
   ],
   "source": [
    "%%time\n",
    "hogs_train = []\n",
    "#train_img[0].shape\n",
    "for i, img in enumerate(train_img, 1):\n",
    "    img = img.astype(np.uint8)\n",
    "    hog = get_hog(img)\n",
    "    hogs_train.append(hog)\n",
    "hogs_train = np.array(hogs_train)\n",
    "pdlabel_Y = pd.DataFrame(train_label.astype(np.uint8))\n",
    "Y_train = pd.get_dummies(pdlabel_Y[pdlabel_Y.columns[0]])\n",
    "\n",
    "hogs_val = []\n",
    "for i, img in enumerate(test_img, 1):\n",
    "    img = img.astype(np.uint8)\n",
    "    hog = get_hog(img)\n",
    "    hogs_val.append(hog)\n",
    "hogs_val = np.array(hogs_val)"
   ]
  },
  {
   "cell_type": "code",
   "execution_count": 116,
   "metadata": {},
   "outputs": [
    {
     "name": "stdout",
     "output_type": "stream",
     "text": [
      "(42000, 1, 1, 2, 2, 33)\n",
      "(28000, 1, 1, 2, 2, 33)\n"
     ]
    }
   ],
   "source": [
    "# Узнаём текущую размерность\n",
    "print(hogs_train.shape)\n",
    "print(hogs_val.shape)"
   ]
  },
  {
   "cell_type": "code",
   "execution_count": 117,
   "metadata": {},
   "outputs": [
    {
     "name": "stdout",
     "output_type": "stream",
     "text": [
      "(42000, 132)\n",
      "(28000, 132)\n",
      "(42000, 10)\n"
     ]
    }
   ],
   "source": [
    "# Меняем размерность на пригодную для обучения\n",
    "hogs_train = pd.DataFrame(hogs_train.reshape(42000,33*4))\n",
    "hogs_val = pd.DataFrame(hogs_val.reshape(28000,33*4))\n",
    "# Снова проверяем размерность\n",
    "print(hogs_train.shape)\n",
    "print(hogs_val.shape)\n",
    "print(Y_train.shape)"
   ]
  },
  {
   "cell_type": "code",
   "execution_count": 118,
   "metadata": {},
   "outputs": [
    {
     "name": "stdout",
     "output_type": "stream",
     "text": [
      "       0         1         2         3         4         5         6    \\\n",
      "0  0.04658  0.092005  0.069926  0.033707  0.030962  0.053908  0.245797   \n",
      "\n",
      "        7         8         9      ...          122       123  124  125  126  \\\n",
      "0  0.263762  0.263762  0.087449    ...     0.000252  0.000266  0.0  0.0  0.0   \n",
      "\n",
      "        127       128       129      130       131  \n",
      "0  0.000097  0.000155  0.008006  0.00794  0.024549  \n",
      "\n",
      "[1 rows x 132 columns]\n",
      "   0  1  2  3  4  5  6  7  8  9\n",
      "0  0  1  0  0  0  0  0  0  0  0\n",
      "1  1  0  0  0  0  0  0  0  0  0\n",
      "2  0  1  0  0  0  0  0  0  0  0\n",
      "3  0  0  0  0  1  0  0  0  0  0\n",
      "4  1  0  0  0  0  0  0  0  0  0\n"
     ]
    }
   ],
   "source": [
    "# Визуальный осмотр данных\n",
    "print(hogs_train[0:1])\n",
    "print(Y_train.head())"
   ]
  },
  {
   "cell_type": "markdown",
   "metadata": {},
   "source": [
    "# Проверяем качество на классификаторе"
   ]
  },
  {
   "cell_type": "code",
   "execution_count": 119,
   "metadata": {},
   "outputs": [],
   "source": [
    "X_train, X_test, Y_train, Y_test = train_test_split(hogs_train, pdlabel_Y, test_size=0.5, random_state=42)"
   ]
  },
  {
   "cell_type": "code",
   "execution_count": 120,
   "metadata": {},
   "outputs": [
    {
     "name": "stderr",
     "output_type": "stream",
     "text": [
      "/home/user/anaconda3/lib/python3.7/site-packages/ipykernel_launcher.py:2: DataConversionWarning: A column-vector y was passed when a 1d array was expected. Please change the shape of y to (n_samples,), for example using ravel().\n",
      "  \n"
     ]
    },
    {
     "name": "stdout",
     "output_type": "stream",
     "text": [
      "CPU times: user 10.6 s, sys: 3.96 ms, total: 10.6 s\n",
      "Wall time: 10.6 s\n"
     ]
    }
   ],
   "source": [
    "%%time\n",
    "model = RandomForestClassifier(max_depth=15, random_state=1,  n_estimators=50)\n",
    "model.fit(X_train, Y_train)\n",
    "pred_test = model.predict(X_test)"
   ]
  },
  {
   "cell_type": "code",
   "execution_count": 121,
   "metadata": {},
   "outputs": [],
   "source": [
    "#print(np.mean(cuscore))\n",
    "#print(np.min(cuscore))"
   ]
  },
  {
   "cell_type": "code",
   "execution_count": 122,
   "metadata": {},
   "outputs": [],
   "source": [
    "#pred_val = model.predict(X_val)"
   ]
  },
  {
   "cell_type": "code",
   "execution_count": 123,
   "metadata": {},
   "outputs": [
    {
     "name": "stdout",
     "output_type": "stream",
     "text": [
      "Accuracy: 0.8025714285714286\n"
     ]
    }
   ],
   "source": [
    "print('Accuracy: %s' % accuracy_score(Y_test, pred_test))"
   ]
  },
  {
   "cell_type": "code",
   "execution_count": 124,
   "metadata": {},
   "outputs": [
    {
     "name": "stdout",
     "output_type": "stream",
     "text": [
      "              precision    recall  f1-score   support\n",
      "\n",
      "           0       0.81      0.79      0.80      2052\n",
      "           1       0.98      0.96      0.97      2330\n",
      "           2       0.78      0.70      0.74      2096\n",
      "           3       0.69      0.76      0.72      2222\n",
      "           4       0.75      0.76      0.76      2053\n",
      "           5       0.73      0.71      0.72      1833\n",
      "           6       0.86      0.87      0.86      2079\n",
      "           7       0.93      0.85      0.89      2191\n",
      "           8       0.74      0.80      0.77      2062\n",
      "           9       0.75      0.80      0.78      2082\n",
      "\n",
      "   micro avg       0.80      0.80      0.80     21000\n",
      "   macro avg       0.80      0.80      0.80     21000\n",
      "weighted avg       0.81      0.80      0.80     21000\n",
      "\n"
     ]
    }
   ],
   "source": [
    "print(classification_report(Y_test, pred_test))"
   ]
  },
  {
   "cell_type": "code",
   "execution_count": 125,
   "metadata": {},
   "outputs": [
    {
     "name": "stdout",
     "output_type": "stream",
     "text": [
      "[[1622   31   49   64   14   95   71    9   39   58]\n",
      " [  24 2245    1    1   35    0    3   17    1    3]\n",
      " [  52    3 1463  215  158   52   40   44   46   23]\n",
      " [  17    0  115 1678   18  111    5    8  179   91]\n",
      " [  53    4  116   29 1556    7   68   18   37  165]\n",
      " [  11    1   28  222   29 1308   43    6  135   50]\n",
      " [  82    1   22   11   37   69 1802    1   50    4]\n",
      " [   9    8   47    8  125   21    1 1864   11   97]\n",
      " [  44    1   14  117   22  104   52    5 1646   57]\n",
      " [  80    1   18   95   67   32   12   36   71 1670]]\n"
     ]
    }
   ],
   "source": [
    "print(confusion_matrix(Y_test, pred_test))"
   ]
  },
  {
   "cell_type": "markdown",
   "metadata": {},
   "source": [
    "# Качество устраивает поэтому обучаем модель на всей выборки и делаем предсказания на валидационной."
   ]
  },
  {
   "cell_type": "code",
   "execution_count": 126,
   "metadata": {},
   "outputs": [
    {
     "name": "stderr",
     "output_type": "stream",
     "text": [
      "/home/user/anaconda3/lib/python3.7/site-packages/ipykernel_launcher.py:2: DataConversionWarning: A column-vector y was passed when a 1d array was expected. Please change the shape of y to (n_samples,), for example using ravel().\n",
      "  \n"
     ]
    }
   ],
   "source": [
    "model2 = RandomForestClassifier(max_depth=15, random_state=1,  n_estimators=50)\n",
    "model2.fit(hogs_train, pdlabel_Y)\n",
    "pred_val = model2.predict(hogs_val)"
   ]
  },
  {
   "cell_type": "markdown",
   "metadata": {},
   "source": [
    "## Визуализируем предсказания"
   ]
  },
  {
   "cell_type": "code",
   "execution_count": 127,
   "metadata": {},
   "outputs": [
    {
     "data": {
      "image/png": "[encoded data removed]",
      "text/plain": [
       "<Figure size 1440x720 with 5 Axes>"
      ]
     },
     "metadata": {
      "needs_background": "light"
     },
     "output_type": "display_data"
    }
   ],
   "source": [
    "fig = plt.figure(figsize=(20, 10))\n",
    "for i, img in enumerate(test_img[0:5], 1):\n",
    "    subplot = fig.add_subplot(1, 7, i)\n",
    "    plt.imshow(img, cmap='gray');\n",
    "    subplot.set_title('%s' % pred_val[i - 1]);"
   ]
  },
  {
   "cell_type": "markdown",
   "metadata": {},
   "source": [
    "## Готовим файл для отправки"
   ]
  },
  {
   "cell_type": "code",
   "execution_count": 128,
   "metadata": {},
   "outputs": [],
   "source": [
    "with open('submit.txt', 'w') as dst:\n",
    "    dst.write('ImageId,Label\\n')\n",
    "    for i, p in enumerate(pred_val, 1):\n",
    "        dst.write('%s,%s\\n' % (i, p))"
   ]
  },
  {
   "cell_type": "code",
   "execution_count": 129,
   "metadata": {},
   "outputs": [
    {
     "name": "stdout",
     "output_type": "stream",
     "text": [
      "ImageId,Label\r\n",
      "1,3\r\n",
      "2,2\r\n",
      "3,9\r\n",
      "4,0\r\n",
      "5,3\r\n",
      "6,2\r\n",
      "7,0\r\n",
      "8,3\r\n",
      "9,0\r\n"
     ]
    }
   ],
   "source": [
    "!head submit.txt"
   ]
  },
  {
   "cell_type": "code",
   "execution_count": 130,
   "metadata": {},
   "outputs": [],
   "source": [
    "# Your submission scored 0.8025714285714286"
   ]
  }
 ],
 "metadata": {
  "kernelspec": {
   "display_name": "Python 3",
   "language": "python",
   "name": "python3"
  },
  "language_info": {
   "codemirror_mode": {
    "name": "ipython",
    "version": 3
   },
   "file_extension": ".py",
   "mimetype": "text/x-python",
   "name": "python",
   "nbconvert_exporter": "python",
   "pygments_lexer": "ipython3",
   "version": "3.7.1"
  }
 },
 "nbformat": 4,
 "nbformat_minor": 2
}
